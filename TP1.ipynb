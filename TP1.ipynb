{
 "cells": [
  {
   "cell_type": "code",
   "execution_count": 1,
   "metadata": {},
   "outputs": [],
   "source": [
    "# fonction pour cacher une cellule\n",
    "# à exécuter une fois au début pour la mettre en mémoire\n",
    "\n",
    "from IPython.display import HTML\n",
    "import random\n",
    "\n",
    "\n",
    "\n",
    "def hide_toggle(for_next=True,texte=\"Montrer/cacher\"):\n",
    "    this_cell = \"\"\"$('div.cell.code_cell.rendered.selected')\"\"\"\n",
    "    next_cell = this_cell + '.next()'\n",
    "  \n",
    "\n",
    "    toggle_text = texte  # text shown on toggle link\n",
    "    target_cell = this_cell  # target cell to control with toggle\n",
    "    js_hide_current = ''  # bit of JS to permanently hide code in current cell (only when toggling next cell)\n",
    "\n",
    "    if for_next:\n",
    "        target_cell = next_cell\n",
    "        js_hide_current = this_cell + '.find(\"div.input\").hide();'+this_cell+ '.find(\"div.output\").hide();'\n",
    "\n",
    "    js_f_name = f'code_toggle_{random.randint(1,2**64)}'\n",
    "\n",
    "    html = \"\"\"\n",
    "        <script>\n",
    "            function {f_name}() {{\n",
    "                {cell_selector}.find('div.input').toggle();\n",
    "                {cell_selector}.find('div.output').toggle();\n",
    "                {this_cell}.find('div.input').hide();\n",
    "\n",
    "            }}\n",
    "             $('div.prompt').hide();\n",
    "         \n",
    "        </script>\n",
    "\n",
    "        <form action=\"javascript:{f_name}()\"><input type=\"submit\" id=\"toggleButton\" value={toggle_text}></form>\n",
    "    \"\"\".format(\n",
    "        f_name=js_f_name,\n",
    "        cell_selector=target_cell,\n",
    "        js_hide_current=js_hide_current, \n",
    "        toggle_text=toggle_text,\n",
    "        this_cell=this_cell\n",
    "    )\n",
    "    \n",
    "\n",
    "    return HTML(html)\n",
    "\n",
    "\n"
   ]
  },
  {
   "cell_type": "code",
   "execution_count": 2,
   "metadata": {},
   "outputs": [
    {
     "name": "stdout",
     "output_type": "stream",
     "text": [
      "Requirement already satisfied: matplotlib in ./.local/lib/python3.7/site-packages (2.2.2)\n",
      "Requirement already satisfied: kiwisolver>=1.0.1 in /usr/local/lib/python3.7/dist-packages (from matplotlib) (1.0.1)\n",
      "Requirement already satisfied: six>=1.10 in /usr/lib/python3/dist-packages (from matplotlib) (1.12.0)\n",
      "Requirement already satisfied: pytz in ./.local/lib/python3.7/site-packages (from matplotlib) (2019.1)\n",
      "Requirement already satisfied: pyparsing!=2.0.4,!=2.1.2,!=2.1.6,>=2.0.1 in /usr/local/lib/python3.7/dist-packages (from matplotlib) (2.3.0)\n",
      "Requirement already satisfied: python-dateutil>=2.1 in /usr/local/lib/python3.7/dist-packages (from matplotlib) (2.7.5)\n",
      "Requirement already satisfied: numpy>=1.7.1 in /usr/lib/python3/dist-packages (from matplotlib) (1.16.2)\n",
      "Requirement already satisfied: cycler>=0.10 in /usr/local/lib/python3.7/dist-packages (from matplotlib) (0.10.0)\n",
      "Requirement already satisfied: setuptools in /usr/lib/python3/dist-packages (from kiwisolver>=1.0.1->matplotlib) (40.8.0)\n",
      "Requirement already satisfied: scipy in /usr/lib/python3/dist-packages (1.1.0)\n"
     ]
    }
   ],
   "source": [
    "# Installation des bibliothèques à exécuter une fois au début\n",
    "!pip install matplotlib\n",
    "!pip install scipy\n"
   ]
  },
  {
   "cell_type": "markdown",
   "metadata": {},
   "source": [
    "# TP1 - Echelle de teinte\n",
    "\n",
    "<h2>Travail demandé:</h2>\n",
    "\n",
    "<ol><li> Inscrire vos réponses, programmes, images dans les blocs réponse prévus pour construire votre compte rendu</li>\n",
    "<li> Vous pouvez tester et/ou modifier les différents morceaux de code proposés</li>\n",
    "<li> Sauvegardez régulièrement votre travail. Attention, la sauvegarde se fait dans un espace temporaire et le fichier sera perdu au bout de quelques heures. </li>\n",
    "<li> Téléchargez votre fichier au <b>format Notebook</b> si vous souhaitez pouvoir le <b>modifier plus tard</b>. Téléchargez le au <b> format html</b> si vous souhaitez simplement une <b>trace écrite</b> ou pour le rendre au professeur.</li></ol>"
   ]
  },
  {
   "cell_type": "markdown",
   "metadata": {},
   "source": [
    "<h3>Matériel :</h3>\n",
    "<ul><li>Arduino nano</li>\n",
    "    <li>Breadboard</li>\n",
    "    <li>Fils</li>\n",
    "    <li>Photoresistance</li>\n",
    "    <li>Resistance $1 k\\Omega$</li>\n",
    "    <li>laser rouge</li>\n",
    "    <li>4 cuves de spectroscopie notées \"4\", \"3\", \"2\" et \"1\" contenant des solutions aqueuses de sulfate de cuivre de concentration 0,05 mol/L, 0,10 mol/L, 0,20 mol/L et 0,40 mol/L respectivement</li>\n",
    "    <li>1 cuve de spectroscopie notée \"Blanc\" contenant uniquement le solvant (eau)</li>\n",
    "    <li>1 cuve de spectroscopie notée \"X\" contenant une solution de sulfate de cuivre de concentration 0,175 mol/L</li>\n",
    "    <li>Ordinateur</li></ul>\n",
    "    <br>\n",
    "<h3>Logiciels :</h3>\n",
    "<ul><li>Navigateur web type Mozilla firefox</li>\n",
    "    <li>IDE Arduino</li></ul>\n",
    "    <br>"
   ]
  },
  {
   "cell_type": "code",
   "execution_count": 3,
   "metadata": {},
   "outputs": [],
   "source": [
    "# imports à exécuter une fois au début\n",
    "from math import log\n",
    "from scipy.optimize import curve_fit\n",
    "import matplotlib.pyplot as plt"
   ]
  },
  {
   "cell_type": "markdown",
   "metadata": {},
   "source": [
    "# Sujet\n",
    "On dispose de 4 solutions aqueuses de sulfate de cuivre $Cu_{(aq)}^{2+} + SO_{4 (aq)}^{2-}$\n",
    "<br>\n",
    "Leur concentration massique est donnée dans le tableau suivant :\n",
    "\n",
    "\n",
    "| Identifiant | Concentration (g/L) |\n",
    "|-------------|---------------------|\n",
    "| Blanc       |                0    |\n",
    "| 1           |                64   |\n",
    "| 2           |                32   |\n",
    "| 3           |                16   |\n",
    "| 4           |                8    | \n",
    "\n",
    "On dispose aussi d'une <b>cuve \"X\"</b> contenant une solution aqueuse de sulfate de cuivre de concentration massique inconnue.\n"
   ]
  },
  {
   "cell_type": "markdown",
   "metadata": {},
   "source": [
    "<b>1°)</b> Que peut-on dire de l'évolution de la couleur de la solution en fonction de la concentration ?"
   ]
  },
  {
   "cell_type": "raw",
   "metadata": {},
   "source": [
    "\n",
    "\n"
   ]
  },
  {
   "cell_type": "markdown",
   "metadata": {},
   "source": [
    "<b>2°)</b> Encadrer alors à l'oeil la concentration de <b>la solution X</b> en comparant sa couleur à celle des solutions 1 à 4."
   ]
  },
  {
   "cell_type": "raw",
   "metadata": {},
   "source": [
    "\n",
    "\n"
   ]
  },
  {
   "cell_type": "markdown",
   "metadata": {},
   "source": [
    "Cette mesure est qualitative, elle permet de comparer des concentrations. Si on veut chiffrer cette valeur, il faut réaliser une mesure quantitative de cette couleur. Nous allons donc utiliser un composant dont la résistance varie en fonction de la lumière qu’il reçoit : <b>la photorésistance.</b>\n",
    "Pour déterminer la valeur de la résistance <b>$\\boldsymbol{R_{1}}$</b> de la photorésistance, on utilise une carte Arduino et une résistance de valeur connue <b>$\\boldsymbol{R_{2} = 1000\\ \\Omega}$</b>. Réalisez le montage de la <b>figure 1</b> sans brancher la carte à l’ordinateur.\n",
    "<center><b>Figure 1. Montage à Réaliser</b>\n",
    "<img src=\"TP1_figure1.png\"></center>\n",
    "Il est équivalent au montage ci-dessous :\n",
    "<center><b>Figure 2. Schéma électrique équivalent</b>\n",
    "<img src=\"TP1_figure2.png\"></center>"
   ]
  },
  {
   "cell_type": "markdown",
   "metadata": {},
   "source": [
    "<b>3°)</b> Quelle relation y-a-t-il entre $\\boldsymbol{U_0,\\ U_1\\ et\\ U_2}$ d'après la loi des mailles ?"
   ]
  },
  {
   "cell_type": "raw",
   "metadata": {},
   "source": [
    "\n",
    "\n"
   ]
  },
  {
   "cell_type": "markdown",
   "metadata": {},
   "source": [
    "<b>4°)</b> Que peut-on dire de l'intensité <b>I</b> qui traverse $\\boldsymbol{R_1}$ et de celle qui traverse $\\boldsymbol{R_2}$ ?"
   ]
  },
  {
   "cell_type": "raw",
   "metadata": {},
   "source": [
    "\n",
    "\n"
   ]
  },
  {
   "cell_type": "markdown",
   "metadata": {},
   "source": [
    "<b>5°)</b> Quelle relation y-a-t-il entre la tension $\\boldsymbol{U_2}$, la résistance $\\boldsymbol{R_2}$ et l'intensité <b>I</b> ?"
   ]
  },
  {
   "cell_type": "raw",
   "metadata": {},
   "source": [
    "\n",
    "\n"
   ]
  },
  {
   "cell_type": "markdown",
   "metadata": {},
   "source": [
    "<b>6°)</b> Même question pour $\\boldsymbol{U_1{,}\\ R_1\\ et\\ I}$."
   ]
  },
  {
   "cell_type": "raw",
   "metadata": {},
   "source": [
    "\n",
    "\n"
   ]
  },
  {
   "cell_type": "markdown",
   "metadata": {},
   "source": [
    "Le montage réalisé sur la carte Arduino nous permet de mesurer U2. On connaît U0 et R2. Ce qui nous intéresse ici est la valeur de R1.\n",
    "<b>7°)</b> Exprimer la valeur de la résistance <b>R<sub>1</sub></b> de la photorésistance en fonction de <b>U<sub>0</sub>, U<sub>2</sub> et R<sub>2</sub></b>."
   ]
  },
  {
   "cell_type": "raw",
   "metadata": {},
   "source": [
    "\n",
    "\n"
   ]
  },
  {
   "cell_type": "markdown",
   "metadata": {},
   "source": [
    "U<sub>2</sub> est mesuré par le convertisseur analogique numérique de la carte Arduino qui numérise une tension entre 0 et 5V sur 10 bits. Ainsi, elle nous renvoie une valeur entière entre 0 et 2<sup>10</sup> - 1; 0 pour une tension de 0V et 1023 pour une tension de 5V.\n",
    "<b>8°)</b> Quelle est la tension mesurée lorsque <b>la carte Arduino renvoie 534</b> ?"
   ]
  },
  {
   "cell_type": "raw",
   "metadata": {},
   "source": [
    "\n",
    "\n"
   ]
  },
  {
   "cell_type": "markdown",
   "metadata": {},
   "source": [
    "<b>9°)</b> Si on note <b>n</b> la valeur entière renvoyée par la carte Arduino, exprimer la valeur de la tension <b>U<sub>2</sub></b> mesurée."
   ]
  },
  {
   "cell_type": "raw",
   "metadata": {},
   "source": [
    "\n",
    "\n"
   ]
  },
  {
   "cell_type": "markdown",
   "metadata": {},
   "source": [
    "<b>10°)</b> En déduire une expression de <b>R<sub>1</sub></b> en fonction de <b>U<sub>0</sub>, R<sub>2</sub> et n</b>."
   ]
  },
  {
   "cell_type": "raw",
   "metadata": {},
   "source": [
    "\n",
    "\n"
   ]
  },
  {
   "cell_type": "markdown",
   "metadata": {},
   "source": [
    "<b>11°)</b> Complétez le programme Arduino <a href=\"./photoresistance.ino\" target=\"_blank\">photoresistance.ino</a> fourni pour qu'il renvoie la valeur de la résistance <b>R<sub>1</sub></b> environ <b>deux fois par seconde.</b>"
   ]
  },
  {
   "cell_type": "markdown",
   "metadata": {},
   "source": [
    "<a href=\"./photoresistance_cor.ino\" target=\"_blank\">correction</a>"
   ]
  },
  {
   "cell_type": "markdown",
   "metadata": {},
   "source": [
    "<p>Réalisez le montage de la <b>figure 1.</b>, faites vérifier votre montage et votre programme puis téléversez le programme vers la carte Arduino. Attention de bien régler le <b style=\"color:red;\">type de carte, le port et le processeur</b>.</p>\n",
    "<p>Nous allons maintenant réaliser des mesures de l'intensité de la lumière qui traverse un échantillon de solution. Pour cela, placer le laser rouge en face de la photorésistance comme sur la <b>figure 3.</b> Ouvrir alors le <b>moniteur série</b> du logiciel Arduino. Réglez le débit binaire à la même valeur que dans votre programme (115200 ici). Vous pouvez alors lire la valeur de la résistance R<sub>1</sub> de la photorésistance.\n",
    "<p><center><b>Figure 3. Montage expérimental</b>\n",
    "<img src=\"TP1_figure3.jpg\"></center></p>"
   ]
  },
  {
   "cell_type": "markdown",
   "metadata": {},
   "source": [
    "<b>12°)</b> Positionnez les différentes cuves (blanc, 1, 2, 3, 4 et X) entre le laser et la photorésistance. Notez les valeurs obtenues <b style=\"color:red;\">dans des listes python ci-dessous</b>."
   ]
  },
  {
   "cell_type": "code",
   "execution_count": 17,
   "metadata": {},
   "outputs": [],
   "source": [
    "R = [] #rentrer ici les valeurs de resistance dans le meme ordre que dans la liste C\n",
    "C = [0,8,16,32,64] #et ici les concentrations correspondantes.\n",
    "Rx = 0 #rentrer ici la valeur de la résistance de la solution inconnue"
   ]
  },
  {
   "cell_type": "markdown",
   "metadata": {},
   "source": [
    "<b>13°)</b> Ecrire ci-dessous <b style=\"color:red;\">un programme python</b> permettant de tracer le graphique représentant $\\boldsymbol{R_1}$ <b>en fonction de la concentration</b> pour les solutions \"blanc\", 1, 2, 3, 4 puis exécutez le. Vous prendrez soin de mettre un titre, et des informations sur les deux axes.\n",
    "<p>Vous pourrez utiliser <a href=\"./methode_courbe.ipynb\" target=\"_blank\">la fiche méthode fournie</a>.</p>"
   ]
  },
  {
   "cell_type": "code",
   "execution_count": null,
   "metadata": {},
   "outputs": [],
   "source": [
    "\n",
    "\n"
   ]
  },
  {
   "cell_type": "code",
   "execution_count": 4,
   "metadata": {},
   "outputs": [
    {
     "data": {
      "text/html": [
       "\n",
       "        <script>\n",
       "            function code_toggle_7204401570546765458() {\n",
       "                $('div.cell.code_cell.rendered.selected').next().find('div.input').toggle();\n",
       "                $('div.cell.code_cell.rendered.selected').next().find('div.output').toggle();\n",
       "                $('div.cell.code_cell.rendered.selected').find('div.input').hide();\n",
       "\n",
       "            }\n",
       "             $('div.prompt').hide();\n",
       "         \n",
       "        </script>\n",
       "\n",
       "        <form action=\"javascript:code_toggle_7204401570546765458()\"><input type=\"submit\" id=\"toggleButton\" value=Correction></form>\n",
       "    "
      ],
      "text/plain": [
       "<IPython.core.display.HTML object>"
      ]
     },
     "execution_count": 4,
     "metadata": {},
     "output_type": "execute_result"
    }
   ],
   "source": [
    "hide_toggle(texte=\"Correction\")"
   ]
  },
  {
   "cell_type": "code",
   "execution_count": 5,
   "metadata": {},
   "outputs": [
    {
     "data": {
      "image/png": "[encoded data removed]",
      "text/plain": [
       "<Figure size 432x288 with 1 Axes>"
      ]
     },
     "metadata": {
      "needs_background": "light"
     },
     "output_type": "display_data"
    }
   ],
   "source": [
    "R = [602,681,890,1228,2600]\n",
    "C = [0.,8.,16.,32.,64.]\n",
    "plt.plot(C,R,\"+\")\n",
    "plt.title(\"Valeur de la photorésistance R1 en fonction de la concentration C\")\n",
    "plt.xlabel(\"Concentration C (g/L)\")\n",
    "plt.ylabel(\"Résistance R1 (ohm)\")\n",
    "plt.show()"
   ]
  },
  {
   "cell_type": "markdown",
   "metadata": {},
   "source": [
    "<b>14°)</b> Ecrire ci-dessous <b style=\"color:red;\">un programme python</b> permettant d'importer la fonction log de la bibliothèque math puis tracez $\\boldsymbol{log(R_1)}$<b> en fonction de la concentration.</b>"
   ]
  },
  {
   "cell_type": "code",
   "execution_count": null,
   "metadata": {},
   "outputs": [],
   "source": [
    "\n",
    "\n"
   ]
  },
  {
   "cell_type": "code",
   "execution_count": 6,
   "metadata": {},
   "outputs": [
    {
     "data": {
      "text/html": [
       "\n",
       "        <script>\n",
       "            function code_toggle_8236657815758975518() {\n",
       "                $('div.cell.code_cell.rendered.selected').next().find('div.input').toggle();\n",
       "                $('div.cell.code_cell.rendered.selected').next().find('div.output').toggle();\n",
       "                $('div.cell.code_cell.rendered.selected').find('div.input').hide();\n",
       "\n",
       "            }\n",
       "             $('div.prompt').hide();\n",
       "         \n",
       "        </script>\n",
       "\n",
       "        <form action=\"javascript:code_toggle_8236657815758975518()\"><input type=\"submit\" id=\"toggleButton\" value=Correction></form>\n",
       "    "
      ],
      "text/plain": [
       "<IPython.core.display.HTML object>"
      ]
     },
     "execution_count": 6,
     "metadata": {},
     "output_type": "execute_result"
    }
   ],
   "source": [
    "hide_toggle(texte=\"Correction\")"
   ]
  },
  {
   "cell_type": "code",
   "execution_count": 7,
   "metadata": {},
   "outputs": [
    {
     "data": {
      "image/png": "[encoded data removed]",
      "text/plain": [
       "<Figure size 432x288 with 1 Axes>"
      ]
     },
     "metadata": {
      "needs_background": "light"
     },
     "output_type": "display_data"
    }
   ],
   "source": [
    "R = [602,681,890,1228,2600]\n",
    "C = [0.,8.,16.,32.,64.]\n",
    "\n",
    "logR = []\n",
    "for val in R:\n",
    "    logR.append(log(val))\n",
    "    \n",
    "plt.plot(C,logR,\"+\")\n",
    "plt.title(\"log(R1) en fonction de la concentration C\")\n",
    "plt.xlabel(\"Concentration C (g/L)\")\n",
    "plt.ylabel(\"log(R1)\")\n",
    "plt.show()"
   ]
  },
  {
   "cell_type": "markdown",
   "metadata": {},
   "source": [
    "<b>15°)</b> Quelle est l'allure de la courbe précédente ? \n",
    "<p>Quelle fonction mathématique vous semble adaptée pour modéliser cette série de valeurs ?</p>"
   ]
  },
  {
   "cell_type": "raw",
   "metadata": {},
   "source": [
    "\n",
    "\n"
   ]
  },
  {
   "cell_type": "markdown",
   "metadata": {},
   "source": [
    "On peut s'affranchir de la quantité d elumière absorbée par l'eau et la cuve en plastique en traçant $\\boldsymbol{log(R_1)\\ -\\ log(R_1blanc)}$<b> en fonction de la concentration massique.</b>\n",
    "<p><b>16°)</b> Ecrire ci-dessous <b style=\"color:red;\">un programme python</b> permettant de modéliser cette série de données par une fonction linéaire et afficher sur un même graphique les points expérimentaux, le modèle et l'équation du modèle."
   ]
  },
  {
   "cell_type": "code",
   "execution_count": null,
   "metadata": {},
   "outputs": [],
   "source": [
    "\n",
    "\n"
   ]
  },
  {
   "cell_type": "code",
   "execution_count": 8,
   "metadata": {},
   "outputs": [
    {
     "data": {
      "text/html": [
       "\n",
       "        <script>\n",
       "            function code_toggle_4499560247282855341() {\n",
       "                $('div.cell.code_cell.rendered.selected').next().find('div.input').toggle();\n",
       "                $('div.cell.code_cell.rendered.selected').next().find('div.output').toggle();\n",
       "                $('div.cell.code_cell.rendered.selected').find('div.input').hide();\n",
       "\n",
       "            }\n",
       "             $('div.prompt').hide();\n",
       "         \n",
       "        </script>\n",
       "\n",
       "        <form action=\"javascript:code_toggle_4499560247282855341()\"><input type=\"submit\" id=\"toggleButton\" value=Correction></form>\n",
       "    "
      ],
      "text/plain": [
       "<IPython.core.display.HTML object>"
      ]
     },
     "execution_count": 8,
     "metadata": {},
     "output_type": "execute_result"
    }
   ],
   "source": [
    "hide_toggle(texte=\"Correction\")"
   ]
  },
  {
   "cell_type": "code",
   "execution_count": 9,
   "metadata": {},
   "outputs": [
    {
     "data": {
      "image/png": "[encoded data removed]",
      "text/plain": [
       "<Figure size 432x288 with 1 Axes>"
      ]
     },
     "metadata": {
      "needs_background": "light"
     },
     "output_type": "display_data"
    }
   ],
   "source": [
    "#Construction de la liste calculée à partir des valeurs expérimentales\n",
    "logRmoinslogR0 = [log(val)-log(R[0]) for val in R]\n",
    "\n",
    "#Tracé des points expérimentaux avec quelques paramètres facultatifs\n",
    "plt.plot(C,logRmoinslogR0,\"+\",markersize=10.,markeredgewidth=3.,label=\"points expérimentaux\")\n",
    "\n",
    "#Calcul du modèle\n",
    "def lineaire(x,a):\n",
    "    return a*x    \n",
    "params,covariance = curve_fit(lineaire,C,logRmoinslogR0)\n",
    "\n",
    "#Construction de la liste de valeurs pour le modèle\n",
    "modele=[]\n",
    "x = C+[70.]\n",
    "for i in x:\n",
    "    modele.append(lineaire(i,*params))\n",
    "    \n",
    "#Tracé du modèle (avec l'équation)\n",
    "plt.plot(x,modele,label=\"modele: Y = {:.2E} C\".format(*params))\n",
    "\n",
    "plt.xlim([0.,70.])\n",
    "plt.ylim([0.,1.75])\n",
    "plt.xlabel(\"Concentration C (g/L)\")\n",
    "plt.ylabel(\"log(R1) - log(R1_blanc)\")\n",
    "plt.title(\"Utilisation d'une photorésistance pour mesurer une concentration\")\n",
    "plt.legend()\n",
    "plt.show()"
   ]
  },
  {
   "cell_type": "markdown",
   "metadata": {},
   "source": [
    "<b>17°)</b> Ecrire ci-dessous <b style=\"color:red;\">un programme python</b> permettant de déterminer la concentration massique de la solution X à partir de l'équation du modèle précédent et de la valeur mesurée. "
   ]
  },
  {
   "cell_type": "code",
   "execution_count": null,
   "metadata": {},
   "outputs": [],
   "source": [
    "\n",
    "\n"
   ]
  },
  {
   "cell_type": "code",
   "execution_count": 10,
   "metadata": {},
   "outputs": [
    {
     "data": {
      "text/html": [
       "\n",
       "        <script>\n",
       "            function code_toggle_6577059215572479669() {\n",
       "                $('div.cell.code_cell.rendered.selected').next().find('div.input').toggle();\n",
       "                $('div.cell.code_cell.rendered.selected').next().find('div.output').toggle();\n",
       "                $('div.cell.code_cell.rendered.selected').find('div.input').hide();\n",
       "\n",
       "            }\n",
       "             $('div.prompt').hide();\n",
       "         \n",
       "        </script>\n",
       "\n",
       "        <form action=\"javascript:code_toggle_6577059215572479669()\"><input type=\"submit\" id=\"toggleButton\" value=Correction></form>\n",
       "    "
      ],
      "text/plain": [
       "<IPython.core.display.HTML object>"
      ]
     },
     "execution_count": 10,
     "metadata": {},
     "output_type": "execute_result"
    }
   ],
   "source": [
    "hide_toggle(texte=\"Correction\")"
   ]
  },
  {
   "cell_type": "code",
   "execution_count": 11,
   "metadata": {},
   "outputs": [
    {
     "name": "stdout",
     "output_type": "stream",
     "text": [
      "La concentration massique est de 27.85 g/L\n"
     ]
    }
   ],
   "source": [
    "#On a obtenu expérimentalement R = 1134 pour la solution X\n",
    "#Comme log(R) - log(Rblanc) = 0.0227 * C, alors C = (log(R) - log(Rblanc)) / 0.0227\n",
    "Rx = 1134\n",
    "Y = log(Rx) - log(R[0])\n",
    "Cm = Y / params[0]\n",
    "print(\"La concentration massique est de {:.2f} g/L\".format(Cm))"
   ]
  },
  {
   "cell_type": "code",
   "execution_count": 12,
   "metadata": {},
   "outputs": [
    {
     "data": {
      "text/html": [
       "\n",
       "        <script>\n",
       "            function code_toggle_7569949874605642513() {\n",
       "                $('div.cell.code_cell.rendered.selected').next().find('div.input').toggle();\n",
       "                $('div.cell.code_cell.rendered.selected').next().find('div.output').toggle();\n",
       "                $('div.cell.code_cell.rendered.selected').find('div.input').hide();\n",
       "\n",
       "            }\n",
       "             $('div.prompt').hide();\n",
       "         \n",
       "        </script>\n",
       "\n",
       "        <form action=\"javascript:code_toggle_7569949874605642513()\"><input type=\"submit\" id=\"toggleButton\" value=Pour_aller_plus_loin></form>\n",
       "    "
      ],
      "text/plain": [
       "<IPython.core.display.HTML object>"
      ]
     },
     "execution_count": 12,
     "metadata": {},
     "output_type": "execute_result"
    }
   ],
   "source": [
    "hide_toggle(texte=\"Pour_aller_plus_loin\")"
   ]
  },
  {
   "cell_type": "code",
   "execution_count": 13,
   "metadata": {},
   "outputs": [
    {
     "data": {
      "image/png": "[encoded data removed]",
      "text/plain": [
       "<Figure size 432x288 with 1 Axes>"
      ]
     },
     "metadata": {
      "needs_background": "light"
     },
     "output_type": "display_data"
    }
   ],
   "source": [
    "#Affichage sur le graphique du tracé de lecture et de la valeur\n",
    "\n",
    "#On a obtenu expérimentalement R = 1134 pour la solution X\n",
    "Rx = 1134\n",
    "Y = log(Rx)-log(R[0])\n",
    "\n",
    "#idem 16°)\n",
    "plt.plot(C,logRmoinslogR0,\"+\",markersize=10.,markeredgewidth=3.,label=\"points expérimentaux\")\n",
    "def lineaire(x,a):\n",
    "    return a*x\n",
    "params,covariance = curve_fit(lineaire,C,logRmoinslogR0)\n",
    "modele=[]\n",
    "x = C+[70.]\n",
    "for i in x:\n",
    "    modele.append(lineaire(i,*params))\n",
    "plt.plot(x,modele,label=\"modele: Y = {:.2E} C\".format(*params))\n",
    "\n",
    "#Affichage de la valeur obtenue \n",
    "plt.plot([0],[Y],marker=\"d\",color=\"red\",label=\"Solution inconnue: C = {:.2f} $g.L^{{-1}}$\".format(Y/params[0]))\n",
    "plt.plot([0,Y/params[0],Y/params[0]],[Y,Y,0],color=\"red\")\n",
    "\n",
    "plt.xlim([0.,70.])\n",
    "plt.ylim([0.,1.75])\n",
    "plt.xlabel(\"Concentration C (g/L)\")\n",
    "plt.ylabel(\"log(R1) - log(R1_blanc)\")\n",
    "plt.title(\"Détermination de la concentration d'une solution inconnue\")\n",
    "\n",
    "plt.legend()\n",
    "plt.show()"
   ]
  },
  {
   "cell_type": "markdown",
   "metadata": {},
   "source": [
    "Une petite remarque, on n'est même pas obligé ici de partir sur un modèle linéaire comme le suggère la loi de Beer-Lambert, on peut utiliser une loi affine avec pour ordonnée à l'origine la valeur pour le blanc."
   ]
  },
  {
   "cell_type": "code",
   "execution_count": 14,
   "metadata": {},
   "outputs": [
    {
     "data": {
      "text/html": [
       "\n",
       "        <script>\n",
       "            function code_toggle_11384502890969004295() {\n",
       "                $('div.cell.code_cell.rendered.selected').next().find('div.input').toggle();\n",
       "                $('div.cell.code_cell.rendered.selected').next().find('div.output').toggle();\n",
       "                $('div.cell.code_cell.rendered.selected').find('div.input').hide();\n",
       "\n",
       "            }\n",
       "             $('div.prompt').hide();\n",
       "         \n",
       "        </script>\n",
       "\n",
       "        <form action=\"javascript:code_toggle_11384502890969004295()\"><input type=\"submit\" id=\"toggleButton\" value=Modèle_Affine></form>\n",
       "    "
      ],
      "text/plain": [
       "<IPython.core.display.HTML object>"
      ]
     },
     "execution_count": 14,
     "metadata": {},
     "output_type": "execute_result"
    }
   ],
   "source": [
    "hide_toggle(texte=\"Modèle_Affine\")"
   ]
  },
  {
   "cell_type": "code",
   "execution_count": 15,
   "metadata": {},
   "outputs": [
    {
     "data": {
      "image/png": "[encoded data removed]",
      "text/plain": [
       "<Figure size 432x288 with 1 Axes>"
      ]
     },
     "metadata": {
      "needs_background": "light"
     },
     "output_type": "display_data"
    }
   ],
   "source": [
    "logR = [log(i) for i in R]\n",
    "\n",
    "def affine(x,a,b):\n",
    "    return a * x + b\n",
    "    \n",
    "params,covariance = curve_fit(affine,C,logR)\n",
    "\n",
    "modele=[]\n",
    "x = C+[70.]\n",
    "for i in x:\n",
    "    modele.append(affine(i,*params))\n",
    "plt.plot(x,modele,label=\"modele: Y = {:.2E} C {:+.2E}\".format(*params))\n",
    "\n",
    "Rx = 1134\n",
    "logRx = log(Rx)\n",
    "\n",
    "plt.plot([0],[logRx],marker=\"d\",color=\"red\",label=\"Solution inconnue: C = {:.2f} g.L\\u207B\\u00B9\".format((logRx-params[1])/params[0]))\n",
    "plt.plot([0,(logRx-params[1])/params[0],(logRx-params[1])/params[0]],[logRx,logRx,0],color=\"red\")\n",
    "\n",
    "plt.plot(C,logR,\"+\",markersize=10.,markeredgewidth=3.,label=\"points expérimentaux\")\n",
    "plt.xlim([0.,70.])\n",
    "plt.ylim([5.5,8.5])\n",
    "\n",
    "plt.legend()\n",
    "plt.show()"
   ]
  }
 ],
 "metadata": {
  "celltoolbar": "Format de la Cellule Texte Brut",
  "kernelspec": {
   "display_name": "Python 3",
   "language": "python",
   "name": "python3"
  },
  "language_info": {
   "codemirror_mode": {
    "name": "ipython",
    "version": 3
   },
   "file_extension": ".py",
   "mimetype": "text/x-python",
   "name": "python",
   "nbconvert_exporter": "python",
   "pygments_lexer": "ipython3",
   "version": "3.7.3rc1"
  }
 },
 "nbformat": 4,
 "nbformat_minor": 2
}
